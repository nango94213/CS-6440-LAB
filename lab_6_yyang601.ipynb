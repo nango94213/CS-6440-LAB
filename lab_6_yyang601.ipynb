{
  "nbformat": 4,
  "nbformat_minor": 0,
  "metadata": {
    "colab": {
      "name": "lab_6_yyang601",
      "provenance": [],
      "collapsed_sections": [],
      "authorship_tag": "ABX9TyMczkwXIeSBU8zsl4oJrQjs",
      "include_colab_link": true
    },
    "kernelspec": {
      "name": "python3",
      "display_name": "Python 3"
    },
    "language_info": {
      "name": "python"
    }
  },
  "cells": [
    {
      "cell_type": "markdown",
      "metadata": {
        "id": "view-in-github",
        "colab_type": "text"
      },
      "source": [
        "<a href=\"https://colab.research.google.com/github/nango94213/CS-6440-LAB/blob/main/lab_6_yyang601.ipynb\" target=\"_parent\"><img src=\"https://colab.research.google.com/assets/colab-badge.svg\" alt=\"Open In Colab\"/></a>"
      ]
    },
    {
      "cell_type": "code",
      "metadata": {
        "id": "huszYiKl5swS"
      },
      "source": [
        "import pandas as pd"
      ],
      "execution_count": null,
      "outputs": []
    },
    {
      "cell_type": "code",
      "metadata": {
        "colab": {
          "base_uri": "https://localhost:8080/"
        },
        "id": "p-KE1Ow46AGy",
        "outputId": "df481733-3ffb-4329-9b85-ca77dfcb7e62"
      },
      "source": [
        "#load data\n",
        "def load_data(name):\n",
        "  data= pd.read_csv(name,usecols=range(20))\n",
        "  data.drop(range(3),inplace=True)\n",
        "  return data\n",
        "df_15 = load_data('Clinical_2021-04-07 15-32-08 -15.csv')\n",
        "df_16 = load_data('Clinical_2021-04-09 15-22-16 -16.csv')\n",
        "df_17 = load_data('Clinical_2021-04-13 13-52-07 -17.csv')\n",
        "def hl7_message(df):\n",
        "  all_message=\"\"\n",
        "  for i in range(len(df)) :\n",
        "     barcode=df.iloc[i,0]\n",
        "     result=df.iloc[i,-1].upper()\n",
        "     message=\"MSH|^~\\&|QUANTERIX|SIMOA1|||20210909042127||ORU^R01|53256|P|2.3\\n\"\"PID|1||123456^^^GATECH||TEST^PATIENT||19951220|F\\n\"f\"ORC|RE||{barcode}||CM||||20210909052539\\n\"f\"OBR|1||{barcode}$1$202109081033$COVID19|COVID19||||||||||||||^SIMOA1||||202109091631175682507|||F||^^^^^Routine\\n\"f\"OBX|1||DRE||COVID19{result}||||||F\\n\"\n",
        "     all_message+=message+\"\\n\"\n",
        "  return all_message\n",
        "\n",
        "print(hl7_message(df_15))\n",
        "print(hl7_message(df_16))\n",
        "print(hl7_message(df_17))\n",
        "\n",
        "\n"
      ],
      "execution_count": null,
      "outputs": [
        {
          "output_type": "stream",
          "name": "stdout",
          "text": [
            "MSH|^~\\&|QUANTERIX|SIMOA1|||20210909042127||ORU^R01|53256|P|2.3\n",
            "PID|1||123456^^^GATECH||TEST^PATIENT||19951220|F\n",
            "ORC|RE||001109705920A||CM||||20210909052539\n",
            "OBR|1||001109705920A$1$202109081033$COVID19|COVID19||||||||||||||^SIMOA1||||202109091631175682507|||F||^^^^^Routine\n",
            "OBX|1||DRE||COVID19NEGATIVE||||||F\n",
            "\n",
            "MSH|^~\\&|QUANTERIX|SIMOA1|||20210909042127||ORU^R01|53256|P|2.3\n",
            "PID|1||123456^^^GATECH||TEST^PATIENT||19951220|F\n",
            "ORC|RE||001109705921A||CM||||20210909052539\n",
            "OBR|1||001109705921A$1$202109081033$COVID19|COVID19||||||||||||||^SIMOA1||||202109091631175682507|||F||^^^^^Routine\n",
            "OBX|1||DRE||COVID19NEGATIVE||||||F\n",
            "\n",
            "MSH|^~\\&|QUANTERIX|SIMOA1|||20210909042127||ORU^R01|53256|P|2.3\n",
            "PID|1||123456^^^GATECH||TEST^PATIENT||19951220|F\n",
            "ORC|RE||002109705924A||CM||||20210909052539\n",
            "OBR|1||002109705924A$1$202109081033$COVID19|COVID19||||||||||||||^SIMOA1||||202109091631175682507|||F||^^^^^Routine\n",
            "OBX|1||DRE||COVID19NEGATIVE||||||F\n",
            "\n",
            "MSH|^~\\&|QUANTERIX|SIMOA1|||20210909042127||ORU^R01|53256|P|2.3\n",
            "PID|1||123456^^^GATECH||TEST^PATIENT||19951220|F\n",
            "ORC|RE||006109705927A||CM||||20210909052539\n",
            "OBR|1||006109705927A$1$202109081033$COVID19|COVID19||||||||||||||^SIMOA1||||202109091631175682507|||F||^^^^^Routine\n",
            "OBX|1||DRE||COVID19NEGATIVE||||||F\n",
            "\n",
            "MSH|^~\\&|QUANTERIX|SIMOA1|||20210909042127||ORU^R01|53256|P|2.3\n",
            "PID|1||123456^^^GATECH||TEST^PATIENT||19951220|F\n",
            "ORC|RE||003109705931A||CM||||20210909052539\n",
            "OBR|1||003109705931A$1$202109081033$COVID19|COVID19||||||||||||||^SIMOA1||||202109091631175682507|||F||^^^^^Routine\n",
            "OBX|1||DRE||COVID19NEGATIVE||||||F\n",
            "\n",
            "\n",
            "MSH|^~\\&|QUANTERIX|SIMOA1|||20210909042127||ORU^R01|53256|P|2.3\n",
            "PID|1||123456^^^GATECH||TEST^PATIENT||19951220|F\n",
            "ORC|RE||001109705920A||CM||||20210909052539\n",
            "OBR|1||001109705920A$1$202109081033$COVID19|COVID19||||||||||||||^SIMOA1||||202109091631175682507|||F||^^^^^Routine\n",
            "OBX|1||DRE||COVID19POSITIVE||||||F\n",
            "\n",
            "MSH|^~\\&|QUANTERIX|SIMOA1|||20210909042127||ORU^R01|53256|P|2.3\n",
            "PID|1||123456^^^GATECH||TEST^PATIENT||19951220|F\n",
            "ORC|RE||001109705921A||CM||||20210909052539\n",
            "OBR|1||001109705921A$1$202109081033$COVID19|COVID19||||||||||||||^SIMOA1||||202109091631175682507|||F||^^^^^Routine\n",
            "OBX|1||DRE||COVID19NEGATIVE||||||F\n",
            "\n",
            "MSH|^~\\&|QUANTERIX|SIMOA1|||20210909042127||ORU^R01|53256|P|2.3\n",
            "PID|1||123456^^^GATECH||TEST^PATIENT||19951220|F\n",
            "ORC|RE||002109705924A||CM||||20210909052539\n",
            "OBR|1||002109705924A$1$202109081033$COVID19|COVID19||||||||||||||^SIMOA1||||202109091631175682507|||F||^^^^^Routine\n",
            "OBX|1||DRE||COVID19POSITIVE||||||F\n",
            "\n",
            "MSH|^~\\&|QUANTERIX|SIMOA1|||20210909042127||ORU^R01|53256|P|2.3\n",
            "PID|1||123456^^^GATECH||TEST^PATIENT||19951220|F\n",
            "ORC|RE||006109705927A||CM||||20210909052539\n",
            "OBR|1||006109705927A$1$202109081033$COVID19|COVID19||||||||||||||^SIMOA1||||202109091631175682507|||F||^^^^^Routine\n",
            "OBX|1||DRE||COVID19POSITIVE||||||F\n",
            "\n",
            "MSH|^~\\&|QUANTERIX|SIMOA1|||20210909042127||ORU^R01|53256|P|2.3\n",
            "PID|1||123456^^^GATECH||TEST^PATIENT||19951220|F\n",
            "ORC|RE||003109705931A||CM||||20210909052539\n",
            "OBR|1||003109705931A$1$202109081033$COVID19|COVID19||||||||||||||^SIMOA1||||202109091631175682507|||F||^^^^^Routine\n",
            "OBX|1||DRE||COVID19NEGATIVE||||||F\n",
            "\n",
            "\n",
            "MSH|^~\\&|QUANTERIX|SIMOA1|||20210909042127||ORU^R01|53256|P|2.3\n",
            "PID|1||123456^^^GATECH||TEST^PATIENT||19951220|F\n",
            "ORC|RE||003110210686A||CM||||20210909052539\n",
            "OBR|1||003110210686A$1$202109081033$COVID19|COVID19||||||||||||||^SIMOA1||||202109091631175682507|||F||^^^^^Routine\n",
            "OBX|1||DRE||COVID19POSITIVE||||||F\n",
            "\n",
            "MSH|^~\\&|QUANTERIX|SIMOA1|||20210909042127||ORU^R01|53256|P|2.3\n",
            "PID|1||123456^^^GATECH||TEST^PATIENT||19951220|F\n",
            "ORC|RE||002110109134A||CM||||20210909052539\n",
            "OBR|1||002110109134A$1$202109081033$COVID19|COVID19||||||||||||||^SIMOA1||||202109091631175682507|||F||^^^^^Routine\n",
            "OBX|1||DRE||COVID19INVALID||||||F\n",
            "\n",
            "MSH|^~\\&|QUANTERIX|SIMOA1|||20210909042127||ORU^R01|53256|P|2.3\n",
            "PID|1||123456^^^GATECH||TEST^PATIENT||19951220|F\n",
            "ORC|RE||001110210956A||CM||||20210909052539\n",
            "OBR|1||001110210956A$1$202109081033$COVID19|COVID19||||||||||||||^SIMOA1||||202109091631175682507|||F||^^^^^Routine\n",
            "OBX|1||DRE||COVID19POSITIVE||||||F\n",
            "\n",
            "MSH|^~\\&|QUANTERIX|SIMOA1|||20210909042127||ORU^R01|53256|P|2.3\n",
            "PID|1||123456^^^GATECH||TEST^PATIENT||19951220|F\n",
            "ORC|RE||001110210962A||CM||||20210909052539\n",
            "OBR|1||001110210962A$1$202109081033$COVID19|COVID19||||||||||||||^SIMOA1||||202109091631175682507|||F||^^^^^Routine\n",
            "OBX|1||DRE||COVID19POSITIVE||||||F\n",
            "\n",
            "MSH|^~\\&|QUANTERIX|SIMOA1|||20210909042127||ORU^R01|53256|P|2.3\n",
            "PID|1||123456^^^GATECH||TEST^PATIENT||19951220|F\n",
            "ORC|RE||001110210971A||CM||||20210909052539\n",
            "OBR|1||001110210971A$1$202109081033$COVID19|COVID19||||||||||||||^SIMOA1||||202109091631175682507|||F||^^^^^Routine\n",
            "OBX|1||DRE||COVID19NEGATIVE||||||F\n",
            "\n",
            "\n"
          ]
        }
      ]
    }
  ]
}